{
 "cells": [
  {
   "cell_type": "code",
   "execution_count": null,
   "id": "guilty-disability",
   "metadata": {},
   "outputs": [],
   "source": [
    "# Import Dependencies\n",
    "from pathlib import Path\n",
    "import csv"
   ]
  },
  {
   "cell_type": "code",
   "execution_count": 2,
   "id": "blind-dublin",
   "metadata": {},
   "outputs": [],
   "source": [
    "# Set the file path\n",
    "csvpath_input = Path('budget_data.csv')\n",
    "csvpath_output = Path('budget_analysis.txt')"
   ]
  },
  {
   "cell_type": "code",
   "execution_count": 6,
   "id": "unknown-devices",
   "metadata": {},
   "outputs": [],
   "source": [
    "# Defining list of activities\n",
    "total_months  = 1\n",
    "total_net = 0\n",
    "month_of_change = []\n",
    "net_change_list = []\n",
    "\n",
    "greatest_increase = ['', 0]\n",
    "greatest_decrease = ['', 9999999999999999999]"
   ]
  },
  {
   "cell_type": "code",
   "execution_count": 7,
   "id": "daily-breed",
   "metadata": {},
   "outputs": [],
   "source": [
    "with open(csvpath_input, 'r') as csvfile:\n",
    "    reader = csv.reader(csvfile)\n",
    "    header = next(reader)\n",
    "    first_row = next(reader)\n",
    "    prev_net = int(first_row[1])\n",
    "    for row in reader:\n",
    "        total_net = total_net + int(row[1])\n",
    "        total_months = total_months + 1\n",
    "        net_change = int(row[1]) - prev_net\n",
    "        prev_net = int(row[1])\n",
    "        net_change_list = net_change_list + [net_change]\n",
    "        month_of_change = month_of_change + [row[0]]\n",
    "        if net_change > greatest_increase[1]:\n",
    "           greatest_increase[0] = row[0]\n",
    "           greatest_increase[1] = net_change\n",
    "        if net_change < greatest_decrease[1]:\n",
    "           greatest_decrease[0] = row[0]\n",
    "           greatest_decrease[1] = net_change"
   ]
  },
  {
   "cell_type": "code",
   "execution_count": 8,
   "id": "minimal-liverpool",
   "metadata": {},
   "outputs": [
    {
     "data": {
      "text/plain": [
       "86"
      ]
     },
     "execution_count": 8,
     "metadata": {},
     "output_type": "execute_result"
    }
   ],
   "source": [
    "total_months"
   ]
  },
  {
   "cell_type": "code",
   "execution_count": 9,
   "id": "presidential-sustainability",
   "metadata": {},
   "outputs": [
    {
     "data": {
      "text/plain": [
       "37514694"
      ]
     },
     "execution_count": 9,
     "metadata": {},
     "output_type": "execute_result"
    }
   ],
   "source": [
    "total_net"
   ]
  },
  {
   "cell_type": "code",
   "execution_count": 10,
   "id": "handed-sherman",
   "metadata": {},
   "outputs": [],
   "source": [
    "average_change = round(sum(net_change_list) / len(month_of_change),2)"
   ]
  },
  {
   "cell_type": "code",
   "execution_count": 11,
   "id": "suffering-machinery",
   "metadata": {},
   "outputs": [
    {
     "name": "stdout",
     "output_type": "stream",
     "text": [
      "-2315.12\n"
     ]
    }
   ],
   "source": [
    "print(average_change)"
   ]
  },
  {
   "cell_type": "code",
   "execution_count": 12,
   "id": "surprised-mouse",
   "metadata": {},
   "outputs": [],
   "source": [
    "output = (\n",
    "   f\"\\n Financial Analysis \\n\"\n",
    "   f\"------------------------------\\n\"\n",
    "   f\"Total months: {total_months}\\n\"\n",
    "   f\"Total: ${total_net}\\n\"\n",
    "   f\"Average  Change: ${average_change:.2f}\\n\"\n",
    "   f\"Greatest Increase in Profits: {greatest_increase[0]} (${greatest_increase[1]})\\n\"\n",
    "   f\"Greatest Decrease in Profits: {greatest_decrease[0]} (${greatest_decrease[1]})\\n\")"
   ]
  },
  {
   "cell_type": "code",
   "execution_count": 13,
   "id": "reduced-payday",
   "metadata": {},
   "outputs": [
    {
     "name": "stdout",
     "output_type": "stream",
     "text": [
      "\n",
      " Financial Analysis \n",
      "------------------------------\n",
      "Total months: 86\n",
      "Total: $37514694\n",
      "Average  Change: $-2315.12\n",
      "Greatest Increase in Profits: Feb-12 ($1926159)\n",
      "Greatest Decrease in Profits: Sep-13 ($-2196167)\n",
      "\n"
     ]
    }
   ],
   "source": [
    "print(output)"
   ]
  },
  {
   "cell_type": "code",
   "execution_count": null,
   "id": "strange-clause",
   "metadata": {},
   "outputs": [],
   "source": []
  }
 ],
 "metadata": {
  "kernelspec": {
   "display_name": "Python 3",
   "language": "python",
   "name": "python3"
  },
  "language_info": {
   "codemirror_mode": {
    "name": "ipython",
    "version": 3
   },
   "file_extension": ".py",
   "mimetype": "text/x-python",
   "name": "python",
   "nbconvert_exporter": "python",
   "pygments_lexer": "ipython3",
   "version": "3.8.5"
  }
 },
 "nbformat": 4,
 "nbformat_minor": 5
}
