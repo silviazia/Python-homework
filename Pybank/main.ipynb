{
 "cells": [
  {
   "cell_type": "code",
   "execution_count": 12,
   "id": "visible-shape",
   "metadata": {},
   "outputs": [],
   "source": [
    "# Import Dependencies\n",
    "from pathlib import Path\n",
    "import csv\n",
    "import os"
   ]
  },
  {
   "cell_type": "code",
   "execution_count": 13,
   "id": "handled-lindsay",
   "metadata": {},
   "outputs": [],
   "source": [
    "# Set the file path\n",
    "csvpath_input = Path('budget_data.csv')\n",
    "csvpath_output = Path('budget_analysis.txt')"
   ]
  },
  {
   "cell_type": "code",
   "execution_count": 21,
   "id": "unauthorized-federation",
   "metadata": {},
   "outputs": [],
   "source": [
    "#Output file \n",
    "csvpath_output = os.path.join(\"budegt_analysis.txt\")"
   ]
  },
  {
   "cell_type": "code",
   "execution_count": 15,
   "id": "endangered-blade",
   "metadata": {},
   "outputs": [],
   "source": [
    "#defining list of activites \n",
    "total_months  = 1\n",
    "total_net = 0\n",
    "month_of_change = []\n",
    "net_change_list = []\n",
    "\n",
    "greatest_increase = ['', 0]\n",
    "greatest_decrease = ['', 9999999999999999999]"
   ]
  },
  {
   "cell_type": "code",
   "execution_count": 16,
   "id": "through-latino",
   "metadata": {},
   "outputs": [],
   "source": [
    "# Open the input path as a file object\n",
    "with open(csvpath_input, 'r') as csvfile:\n",
    "    reader = csv.reader(csvfile, delimiter=',')\n",
    "    header = next(reader)\n",
    "    first_row = next(reader)\n",
    "    total_net = int(first_row[1])\n",
    "    prev_net = int(first_row[1])\n",
    "    for row in reader:\n",
    "        \n",
    "        total_months = total_months + 1  #total_months +=1\n",
    "        total_net = total_net + int(row[1]) #typecasting\n",
    "        net_change = int(row[1]) - prev_net\n",
    "        prev_net = int(row[1])\n",
    "        net_change_list = net_change_list + [net_change]\n",
    "        month_of_change = month_of_change + [row[0]]\n",
    "        if net_change > greatest_increase[1]:\n",
    "           greatest_increase[0] = row[0]\n",
    "           greatest_increase[1] = net_change\n",
    "        if net_change < greatest_decrease[1]:\n",
    "           greatest_decrease[0] = row[0]\n",
    "           greatest_decrease[1] = net_change"
   ]
  },
  {
   "cell_type": "code",
   "execution_count": 17,
   "id": "painful-lafayette",
   "metadata": {},
   "outputs": [],
   "source": [
    "average_change = round(sum(net_change_list) / len(month_of_change),2)"
   ]
  },
  {
   "cell_type": "code",
   "execution_count": 18,
   "id": "weighted-dining",
   "metadata": {},
   "outputs": [],
   "source": [
    "output = (\n",
    "   f\"\\n Financial Analysis \\n\"\n",
    "   f\"------------------------------\\n\"\n",
    "   f\"Total months: {total_months}\\n\"\n",
    "   f\"Total: ${total_net}\\n\"\n",
    "   f\"Average  Change: ${average_change:.2f}\\n\"\n",
    "   f\"Greatest Increase in Profits: {greatest_increase[0]} (${greatest_increase[1]})\\n\"\n",
    "   f\"Greatest Decrease in Profits: {greatest_decrease[0]} (${greatest_decrease[1]})\\n\")"
   ]
  },
  {
   "cell_type": "code",
   "execution_count": 22,
   "id": "precious-dating",
   "metadata": {},
   "outputs": [],
   "source": [
    "with open(csvpath_output, \"w\") as txt_file:\n",
    "    txt_file.write(output)\n",
    "    \n",
    "    csvpath_output"
   ]
  }
 ],
 "metadata": {
  "kernelspec": {
   "display_name": "Python 3",
   "language": "python",
   "name": "python3"
  },
  "language_info": {
   "codemirror_mode": {
    "name": "ipython",
    "version": 3
   },
   "file_extension": ".py",
   "mimetype": "text/x-python",
   "name": "python",
   "nbconvert_exporter": "python",
   "pygments_lexer": "ipython3",
   "version": "3.8.5"
  }
 },
 "nbformat": 4,
 "nbformat_minor": 5
}
