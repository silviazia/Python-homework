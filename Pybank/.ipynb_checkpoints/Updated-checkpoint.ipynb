{
 "cells": [
  {
   "cell_type": "code",
   "execution_count": 4,
   "id": "super-saint",
   "metadata": {},
   "outputs": [],
   "source": [
    "# Import Dependencies\n",
    "from pathlib import Path\n",
    "import csv"
   ]
  },
  {
   "cell_type": "code",
   "execution_count": 5,
   "id": "formal-brand",
   "metadata": {},
   "outputs": [],
   "source": [
    "# Set the file path\n",
    "csvpath_input = Path('budget_data.csv')\n",
    "csvpath_output = Path('budget_analysis.txt')"
   ]
  },
  {
   "cell_type": "code",
   "execution_count": 6,
   "id": "interim-soundtrack",
   "metadata": {},
   "outputs": [],
   "source": [
    "# Defining list of activities\n",
    "total_months  = 1\n",
    "total_net = 0\n",
    "month_of_change = []\n",
    "net_change_list = []\n",
    "\n",
    "greatest_increase = ['', 0]\n",
    "greatest_decrease = ['', 9999999999999999999]"
   ]
  },
  {
   "cell_type": "code",
   "execution_count": 7,
   "id": "southwest-operation",
   "metadata": {},
   "outputs": [],
   "source": [
    "# Open the input path as a file object\n",
    "with open(csvpath_input, 'r') as csvfile:\n",
    "    reader = csv.reader(csvfile, delimiter=',')\n",
    "    header = next(reader)\n",
    "    first_row = next(reader)\n",
    "    total_net = int(first_row[1])\n",
    "    prev_net = int(first_row[1])\n",
    "    for row in reader:\n",
    "        \n",
    "        total_months = total_months + 1  #total_months +=1\n",
    "        total_net = total_net + int(row[1]) #typecasting\n",
    "        net_change = int(row[1]) - prev_net\n",
    "        prev_net = int(row[1])\n",
    "        net_change_list = net_change_list + [net_change]\n",
    "        month_of_change = month_of_change + [row[0]]\n",
    "        if net_change > greatest_increase[1]:\n",
    "           greatest_increase[0] = row[0]\n",
    "           greatest_increase[1] = net_change\n",
    "        if net_change < greatest_decrease[1]:\n",
    "           greatest_decrease[0] = row[0]\n",
    "           greatest_decrease[1] = net_change"
   ]
  },
  {
   "cell_type": "code",
   "execution_count": 8,
   "id": "uniform-match",
   "metadata": {},
   "outputs": [
    {
     "data": {
      "text/plain": [
       "86"
      ]
     },
     "execution_count": 8,
     "metadata": {},
     "output_type": "execute_result"
    }
   ],
   "source": [
    "total_months"
   ]
  },
  {
   "cell_type": "code",
   "execution_count": 9,
   "id": "acute-audience",
   "metadata": {},
   "outputs": [
    {
     "data": {
      "text/plain": [
       "38382578"
      ]
     },
     "execution_count": 9,
     "metadata": {},
     "output_type": "execute_result"
    }
   ],
   "source": [
    "total_net"
   ]
  },
  {
   "cell_type": "code",
   "execution_count": 10,
   "id": "recovered-sheffield",
   "metadata": {},
   "outputs": [],
   "source": [
    "average_change = round(sum(net_change_list) / len(month_of_change),2)"
   ]
  },
  {
   "cell_type": "code",
   "execution_count": 11,
   "id": "vocal-underwear",
   "metadata": {},
   "outputs": [
    {
     "name": "stdout",
     "output_type": "stream",
     "text": [
      "-2315.12\n"
     ]
    }
   ],
   "source": [
    "print(average_change)"
   ]
  },
  {
   "cell_type": "code",
   "execution_count": 12,
   "id": "italic-basket",
   "metadata": {},
   "outputs": [],
   "source": [
    "output = (\n",
    "   f\"\\n Financial Analysis \\n\"\n",
    "   f\"------------------------------\\n\"\n",
    "   f\"Total months: {total_months}\\n\"\n",
    "   f\"Total: ${total_net}\\n\"\n",
    "   f\"Average  Change: ${average_change:.2f}\\n\"\n",
    "   f\"Greatest Increase in Profits: {greatest_increase[0]} (${greatest_increase[1]})\\n\"\n",
    "   f\"Greatest Decrease in Profits: {greatest_decrease[0]} (${greatest_decrease[1]})\\n\")"
   ]
  },
  {
   "cell_type": "code",
   "execution_count": 13,
   "id": "hidden-mailing",
   "metadata": {},
   "outputs": [
    {
     "name": "stdout",
     "output_type": "stream",
     "text": [
      "\n",
      " Financial Analysis \n",
      "------------------------------\n",
      "Total months: 86\n",
      "Total: $38382578\n",
      "Average  Change: $-2315.12\n",
      "Greatest Increase in Profits: Feb-12 ($1926159)\n",
      "Greatest Decrease in Profits: Sep-13 ($-2196167)\n",
      "\n"
     ]
    }
   ],
   "source": [
    "print(output)"
   ]
  }
 ],
 "metadata": {
  "kernelspec": {
   "display_name": "Python 3",
   "language": "python",
   "name": "python3"
  },
  "language_info": {
   "codemirror_mode": {
    "name": "ipython",
    "version": 3
   },
   "file_extension": ".py",
   "mimetype": "text/x-python",
   "name": "python",
   "nbconvert_exporter": "python",
   "pygments_lexer": "ipython3",
   "version": "3.8.5"
  }
 },
 "nbformat": 4,
 "nbformat_minor": 5
}
